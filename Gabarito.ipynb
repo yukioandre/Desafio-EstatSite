{
 "cells": [
  {
   "cell_type": "code",
   "execution_count": 97,
   "metadata": {},
   "outputs": [],
   "source": [
    "import pandas as pd"
   ]
  },
  {
   "cell_type": "markdown",
   "metadata": {},
   "source": [
    "## Exercício 1"
   ]
  },
  {
   "cell_type": "code",
   "execution_count": 98,
   "metadata": {},
   "outputs": [
    {
     "name": "stdout",
     "output_type": "stream",
     "text": [
      "(18207, 89)\n",
      "652\n"
     ]
    },
    {
     "data": {
      "text/html": [
       "<div>\n",
       "<style scoped>\n",
       "    .dataframe tbody tr th:only-of-type {\n",
       "        vertical-align: middle;\n",
       "    }\n",
       "\n",
       "    .dataframe tbody tr th {\n",
       "        vertical-align: top;\n",
       "    }\n",
       "\n",
       "    .dataframe thead th {\n",
       "        text-align: right;\n",
       "    }\n",
       "</style>\n",
       "<table border=\"1\" class=\"dataframe\">\n",
       "  <thead>\n",
       "    <tr style=\"text-align: right;\">\n",
       "      <th></th>\n",
       "      <th>Unnamed: 0</th>\n",
       "      <th>ID</th>\n",
       "      <th>Name</th>\n",
       "      <th>Age</th>\n",
       "      <th>Photo</th>\n",
       "      <th>Nationality</th>\n",
       "      <th>Flag</th>\n",
       "      <th>Overall</th>\n",
       "      <th>Potential</th>\n",
       "      <th>Club</th>\n",
       "      <th>...</th>\n",
       "      <th>Composure</th>\n",
       "      <th>Marking</th>\n",
       "      <th>StandingTackle</th>\n",
       "      <th>SlidingTackle</th>\n",
       "      <th>GKDiving</th>\n",
       "      <th>GKHandling</th>\n",
       "      <th>GKKicking</th>\n",
       "      <th>GKPositioning</th>\n",
       "      <th>GKReflexes</th>\n",
       "      <th>Release Clause</th>\n",
       "    </tr>\n",
       "  </thead>\n",
       "  <tbody>\n",
       "    <tr>\n",
       "      <th>0</th>\n",
       "      <td>0</td>\n",
       "      <td>158023</td>\n",
       "      <td>L. Messi</td>\n",
       "      <td>31</td>\n",
       "      <td>https://cdn.sofifa.org/players/4/19/158023.png</td>\n",
       "      <td>Argentina</td>\n",
       "      <td>https://cdn.sofifa.org/flags/52.png</td>\n",
       "      <td>94</td>\n",
       "      <td>94</td>\n",
       "      <td>FC Barcelona</td>\n",
       "      <td>...</td>\n",
       "      <td>96.0</td>\n",
       "      <td>33.0</td>\n",
       "      <td>28.0</td>\n",
       "      <td>26.0</td>\n",
       "      <td>6.0</td>\n",
       "      <td>11.0</td>\n",
       "      <td>15.0</td>\n",
       "      <td>14.0</td>\n",
       "      <td>8.0</td>\n",
       "      <td>€226.5M</td>\n",
       "    </tr>\n",
       "    <tr>\n",
       "      <th>1</th>\n",
       "      <td>1</td>\n",
       "      <td>20801</td>\n",
       "      <td>Cristiano Ronaldo</td>\n",
       "      <td>33</td>\n",
       "      <td>https://cdn.sofifa.org/players/4/19/20801.png</td>\n",
       "      <td>Portugal</td>\n",
       "      <td>https://cdn.sofifa.org/flags/38.png</td>\n",
       "      <td>94</td>\n",
       "      <td>94</td>\n",
       "      <td>Juventus</td>\n",
       "      <td>...</td>\n",
       "      <td>95.0</td>\n",
       "      <td>28.0</td>\n",
       "      <td>31.0</td>\n",
       "      <td>23.0</td>\n",
       "      <td>7.0</td>\n",
       "      <td>11.0</td>\n",
       "      <td>15.0</td>\n",
       "      <td>14.0</td>\n",
       "      <td>11.0</td>\n",
       "      <td>€127.1M</td>\n",
       "    </tr>\n",
       "    <tr>\n",
       "      <th>2</th>\n",
       "      <td>2</td>\n",
       "      <td>190871</td>\n",
       "      <td>Neymar Jr</td>\n",
       "      <td>26</td>\n",
       "      <td>https://cdn.sofifa.org/players/4/19/190871.png</td>\n",
       "      <td>Brazil</td>\n",
       "      <td>https://cdn.sofifa.org/flags/54.png</td>\n",
       "      <td>92</td>\n",
       "      <td>93</td>\n",
       "      <td>Paris Saint-Germain</td>\n",
       "      <td>...</td>\n",
       "      <td>94.0</td>\n",
       "      <td>27.0</td>\n",
       "      <td>24.0</td>\n",
       "      <td>33.0</td>\n",
       "      <td>9.0</td>\n",
       "      <td>9.0</td>\n",
       "      <td>15.0</td>\n",
       "      <td>15.0</td>\n",
       "      <td>11.0</td>\n",
       "      <td>€228.1M</td>\n",
       "    </tr>\n",
       "    <tr>\n",
       "      <th>3</th>\n",
       "      <td>3</td>\n",
       "      <td>193080</td>\n",
       "      <td>De Gea</td>\n",
       "      <td>27</td>\n",
       "      <td>https://cdn.sofifa.org/players/4/19/193080.png</td>\n",
       "      <td>Spain</td>\n",
       "      <td>https://cdn.sofifa.org/flags/45.png</td>\n",
       "      <td>91</td>\n",
       "      <td>93</td>\n",
       "      <td>Manchester United</td>\n",
       "      <td>...</td>\n",
       "      <td>68.0</td>\n",
       "      <td>15.0</td>\n",
       "      <td>21.0</td>\n",
       "      <td>13.0</td>\n",
       "      <td>90.0</td>\n",
       "      <td>85.0</td>\n",
       "      <td>87.0</td>\n",
       "      <td>88.0</td>\n",
       "      <td>94.0</td>\n",
       "      <td>€138.6M</td>\n",
       "    </tr>\n",
       "    <tr>\n",
       "      <th>4</th>\n",
       "      <td>4</td>\n",
       "      <td>192985</td>\n",
       "      <td>K. De Bruyne</td>\n",
       "      <td>27</td>\n",
       "      <td>https://cdn.sofifa.org/players/4/19/192985.png</td>\n",
       "      <td>Belgium</td>\n",
       "      <td>https://cdn.sofifa.org/flags/7.png</td>\n",
       "      <td>91</td>\n",
       "      <td>92</td>\n",
       "      <td>Manchester City</td>\n",
       "      <td>...</td>\n",
       "      <td>88.0</td>\n",
       "      <td>68.0</td>\n",
       "      <td>58.0</td>\n",
       "      <td>51.0</td>\n",
       "      <td>15.0</td>\n",
       "      <td>13.0</td>\n",
       "      <td>5.0</td>\n",
       "      <td>10.0</td>\n",
       "      <td>13.0</td>\n",
       "      <td>€196.4M</td>\n",
       "    </tr>\n",
       "  </tbody>\n",
       "</table>\n",
       "<p>5 rows × 89 columns</p>\n",
       "</div>"
      ],
      "text/plain": [
       "   Unnamed: 0      ID               Name  Age  \\\n",
       "0           0  158023           L. Messi   31   \n",
       "1           1   20801  Cristiano Ronaldo   33   \n",
       "2           2  190871          Neymar Jr   26   \n",
       "3           3  193080             De Gea   27   \n",
       "4           4  192985       K. De Bruyne   27   \n",
       "\n",
       "                                            Photo Nationality  \\\n",
       "0  https://cdn.sofifa.org/players/4/19/158023.png   Argentina   \n",
       "1   https://cdn.sofifa.org/players/4/19/20801.png    Portugal   \n",
       "2  https://cdn.sofifa.org/players/4/19/190871.png      Brazil   \n",
       "3  https://cdn.sofifa.org/players/4/19/193080.png       Spain   \n",
       "4  https://cdn.sofifa.org/players/4/19/192985.png     Belgium   \n",
       "\n",
       "                                  Flag  Overall  Potential  \\\n",
       "0  https://cdn.sofifa.org/flags/52.png       94         94   \n",
       "1  https://cdn.sofifa.org/flags/38.png       94         94   \n",
       "2  https://cdn.sofifa.org/flags/54.png       92         93   \n",
       "3  https://cdn.sofifa.org/flags/45.png       91         93   \n",
       "4   https://cdn.sofifa.org/flags/7.png       91         92   \n",
       "\n",
       "                  Club  ... Composure Marking StandingTackle  SlidingTackle  \\\n",
       "0         FC Barcelona  ...      96.0    33.0           28.0           26.0   \n",
       "1             Juventus  ...      95.0    28.0           31.0           23.0   \n",
       "2  Paris Saint-Germain  ...      94.0    27.0           24.0           33.0   \n",
       "3    Manchester United  ...      68.0    15.0           21.0           13.0   \n",
       "4      Manchester City  ...      88.0    68.0           58.0           51.0   \n",
       "\n",
       "  GKDiving  GKHandling  GKKicking  GKPositioning GKReflexes Release Clause  \n",
       "0      6.0        11.0       15.0           14.0        8.0        €226.5M  \n",
       "1      7.0        11.0       15.0           14.0       11.0        €127.1M  \n",
       "2      9.0         9.0       15.0           15.0       11.0        €228.1M  \n",
       "3     90.0        85.0       87.0           88.0       94.0        €138.6M  \n",
       "4     15.0        13.0        5.0           10.0       13.0        €196.4M  \n",
       "\n",
       "[5 rows x 89 columns]"
      ]
     },
     "execution_count": 98,
     "metadata": {},
     "output_type": "execute_result"
    }
   ],
   "source": [
    "fifa = pd.read_csv('fifa19.csv')\n",
    "print(fifa.shape)\n",
    "print(len(fifa['Club'].unique()))\n",
    "fifa.head()"
   ]
  },
  {
   "cell_type": "code",
   "execution_count": 99,
   "metadata": {},
   "outputs": [
    {
     "data": {
      "text/plain": [
       "0    €565K\n",
       "1    €405K\n",
       "2    €290K\n",
       "3    €260K\n",
       "4    €355K\n",
       "Name: Wage, dtype: object"
      ]
     },
     "execution_count": 99,
     "metadata": {},
     "output_type": "execute_result"
    }
   ],
   "source": [
    "fifa['Wage'].head(5)"
   ]
  },
  {
   "cell_type": "code",
   "execution_count": 100,
   "metadata": {},
   "outputs": [
    {
     "data": {
      "text/plain": [
       "587"
      ]
     },
     "execution_count": 100,
     "metadata": {},
     "output_type": "execute_result"
    }
   ],
   "source": [
    "# filtra clubes com mais de 25 jogadores\n",
    "clubes_25 = fifa.Club.value_counts() >= 25\n",
    "clubes_25 = clubes_25[clubes_25]\n",
    "len(clubes_25)"
   ]
  },
  {
   "cell_type": "code",
   "execution_count": 101,
   "metadata": {},
   "outputs": [],
   "source": [
    "# mantem somente quem tem pelo menos 25\n",
    "ex_1 = fifa.loc[fifa.Club.isin(clubes_25.index)]"
   ]
  },
  {
   "cell_type": "code",
   "execution_count": 102,
   "metadata": {},
   "outputs": [
    {
     "name": "stdout",
     "output_type": "stream",
     "text": [
      "Club\n",
      "Bohemian FC    55.0\n",
      "Name: Overall, dtype: float64\n",
      "Club\n",
      "Juventus    82.28\n",
      "Name: Overall, dtype: float64\n"
     ]
    }
   ],
   "source": [
    "# clube com maior overall medio\n",
    "print(ex_1.groupby('Club')['Overall'].mean().sort_values().head(1))\n",
    "\n",
    "print(ex_1.groupby('Club')['Overall'].mean().sort_values().tail(1))"
   ]
  },
  {
   "cell_type": "markdown",
   "metadata": {},
   "source": [
    "## Exercício 2"
   ]
  },
  {
   "cell_type": "code",
   "execution_count": 103,
   "metadata": {},
   "outputs": [
    {
     "data": {
      "text/plain": [
       "Nationality\n",
       "Spain    86.3\n",
       "Name: Overall, dtype: float64"
      ]
     },
     "execution_count": 103,
     "metadata": {},
     "output_type": "execute_result"
    }
   ],
   "source": [
    "# filtra só seleção com pelo menos 20 jogadores\n",
    "clubes_20 = fifa.Club.value_counts() >= 20\n",
    "clubes_20 = clubes_20[clubes_20]\n",
    "ex_2 = fifa.loc[fifa.Club.isin(clubes_20.index)]\n",
    "\n",
    "# separa os 20 melhores jogadores\n",
    "ex_2 = ex_2.groupby('Nationality').apply(lambda x: x.nlargest(20, 'Overall')).reset_index(drop=True) \n",
    "\n",
    "# verifica o maior overall \n",
    "ex_2.groupby('Nationality')['Overall'].mean().sort_values().tail(1)"
   ]
  },
  {
   "cell_type": "markdown",
   "metadata": {},
   "source": [
    "## Exercício 3"
   ]
  },
  {
   "cell_type": "code",
   "execution_count": 104,
   "metadata": {},
   "outputs": [
    {
     "name": "stderr",
     "output_type": "stream",
     "text": [
      "/opt/anaconda3/lib/python3.7/site-packages/pandas/core/generic.py:6245: SettingWithCopyWarning: \n",
      "A value is trying to be set on a copy of a slice from a DataFrame\n",
      "\n",
      "See the caveats in the documentation: https://pandas.pydata.org/pandas-docs/stable/user_guide/indexing.html#returning-a-view-versus-a-copy\n",
      "  self._update_inplace(new_data)\n",
      "/opt/anaconda3/lib/python3.7/site-packages/ipykernel_launcher.py:22: SettingWithCopyWarning: \n",
      "A value is trying to be set on a copy of a slice from a DataFrame.\n",
      "Try using .loc[row_indexer,col_indexer] = value instead\n",
      "\n",
      "See the caveats in the documentation: https://pandas.pydata.org/pandas-docs/stable/user_guide/indexing.html#returning-a-view-versus-a-copy\n"
     ]
    },
    {
     "data": {
      "text/plain": [
       "Club\n",
       "Real Madrid            1.856900e+09\n",
       "FC Barcelona           1.813000e+09\n",
       "Manchester City        1.511100e+09\n",
       "Atlético Madrid        1.371100e+09\n",
       "Paris Saint-Germain    1.215400e+09\n",
       "Name: Release_Clause_Numeric, dtype: float64"
      ]
     },
     "execution_count": 104,
     "metadata": {},
     "output_type": "execute_result"
    }
   ],
   "source": [
    "# filtra clubes com mais de 25 jogadores\n",
    "clubes_25 = fifa.Club.value_counts() > 25\n",
    "clubes_25 = clubes_25[clubes_25]\n",
    "\n",
    "# mantem somente quem tem mais de 25\n",
    "ex_1 = fifa.loc[fifa.Club.isin(clubes_25.index)]\n",
    "\n",
    "# funcao para tratar campo release clause\n",
    "def converte_release_clause(value):\n",
    "    value_2 = value.replace('€','')\n",
    "    if 'M' in value_2:\n",
    "        value_2 = value_2.replace('M','')\n",
    "        return float(value_2)*1000000\n",
    "    elif 'k' in value_2:\n",
    "        value_2 = value_2.replace('k','')\n",
    "        return float(value_2)*1000\n",
    "\n",
    "# Precisamos preencher os nulos (Ou excluir)\n",
    "ex_1['Release Clause'].fillna('0',inplace=True)\n",
    "\n",
    "# cria um campo release clause numerico\n",
    "ex_1['Release_Clause_Numeric'] = ex_1['Release Clause'].apply(converte_release_clause)\n",
    "    \n",
    "# clube com maior overall medio\n",
    "ex_1.groupby('Club')['Release_Clause_Numeric'].sum().sort_values(ascending=False).head(5)"
   ]
  },
  {
   "cell_type": "markdown",
   "metadata": {},
   "source": [
    "## Exercício 4, 5 e 6"
   ]
  },
  {
   "cell_type": "code",
   "execution_count": 105,
   "metadata": {},
   "outputs": [
    {
     "data": {
      "text/plain": [
       "Wage                 0\n",
       "Weight              48\n",
       "Release Clause    1564\n",
       "dtype: int64"
      ]
     },
     "execution_count": 105,
     "metadata": {},
     "output_type": "execute_result"
    }
   ],
   "source": [
    "# dataset para o exercicio 4\n",
    "ex_4 = fifa\n",
    "ex_4[['Wage', 'Weight', 'Release Clause']].isna().sum()"
   ]
  },
  {
   "cell_type": "code",
   "execution_count": 106,
   "metadata": {},
   "outputs": [
    {
     "data": {
      "text/plain": [
       "Wage               0\n",
       "Weight            48\n",
       "Release Clause     0\n",
       "dtype: int64"
      ]
     },
     "execution_count": 106,
     "metadata": {},
     "output_type": "execute_result"
    }
   ],
   "source": [
    "ex_4['Release Clause'].fillna('0', inplace=True)  # essa tratativa nao deve ser usada para modelagem!\n",
    "ex_4[['Wage', 'Weight', 'Release Clause']].isna().sum()"
   ]
  },
  {
   "cell_type": "code",
   "execution_count": 107,
   "metadata": {},
   "outputs": [],
   "source": [
    "ex_4['Weight'].fillna('0', inplace=True) # essa tratativa nao deve ser usada para modelagem!"
   ]
  },
  {
   "cell_type": "code",
   "execution_count": 108,
   "metadata": {},
   "outputs": [
    {
     "data": {
      "text/html": [
       "<div>\n",
       "<style scoped>\n",
       "    .dataframe tbody tr th:only-of-type {\n",
       "        vertical-align: middle;\n",
       "    }\n",
       "\n",
       "    .dataframe tbody tr th {\n",
       "        vertical-align: top;\n",
       "    }\n",
       "\n",
       "    .dataframe thead th {\n",
       "        text-align: right;\n",
       "    }\n",
       "</style>\n",
       "<table border=\"1\" class=\"dataframe\">\n",
       "  <thead>\n",
       "    <tr style=\"text-align: right;\">\n",
       "      <th></th>\n",
       "      <th>Release_Clause_Numeric</th>\n",
       "      <th>Wage_Numeric</th>\n",
       "      <th>Weight_Numeric</th>\n",
       "    </tr>\n",
       "  </thead>\n",
       "  <tbody>\n",
       "    <tr>\n",
       "      <th>0</th>\n",
       "      <td>226500000.0</td>\n",
       "      <td>565000.0</td>\n",
       "      <td>159.0</td>\n",
       "    </tr>\n",
       "    <tr>\n",
       "      <th>1</th>\n",
       "      <td>127100000.0</td>\n",
       "      <td>405000.0</td>\n",
       "      <td>183.0</td>\n",
       "    </tr>\n",
       "    <tr>\n",
       "      <th>2</th>\n",
       "      <td>228100000.0</td>\n",
       "      <td>290000.0</td>\n",
       "      <td>150.0</td>\n",
       "    </tr>\n",
       "    <tr>\n",
       "      <th>3</th>\n",
       "      <td>138600000.0</td>\n",
       "      <td>260000.0</td>\n",
       "      <td>168.0</td>\n",
       "    </tr>\n",
       "    <tr>\n",
       "      <th>4</th>\n",
       "      <td>196400000.0</td>\n",
       "      <td>355000.0</td>\n",
       "      <td>154.0</td>\n",
       "    </tr>\n",
       "  </tbody>\n",
       "</table>\n",
       "</div>"
      ],
      "text/plain": [
       "   Release_Clause_Numeric  Wage_Numeric  Weight_Numeric\n",
       "0             226500000.0      565000.0           159.0\n",
       "1             127100000.0      405000.0           183.0\n",
       "2             228100000.0      290000.0           150.0\n",
       "3             138600000.0      260000.0           168.0\n",
       "4             196400000.0      355000.0           154.0"
      ]
     },
     "execution_count": 108,
     "metadata": {},
     "output_type": "execute_result"
    }
   ],
   "source": [
    "def converte_wage(value):\n",
    "    value_2 = value.replace('€','')\n",
    "    if 'M' in value_2:\n",
    "        value_2 = value_2.replace('M','')\n",
    "        return float(value_2)*1000000\n",
    "    elif 'K' in value_2:\n",
    "        value_2 = value_2.replace('K','')\n",
    "        return float(value_2)*1000\n",
    "\n",
    "def converte_weight(value):\n",
    "    value_2 = value.replace('lbs','')\n",
    "    return float(value_2)\n",
    "\n",
    "# cria uma release clause numerica (aproveitamos funcao ja criada no exercicio anterior)\n",
    "ex_4['Release_Clause_Numeric'] = ex_4['Release Clause'].apply(converte_release_clause)\n",
    "\n",
    "# faz o mesmo para salario e peso\n",
    "ex_4['Wage_Numeric'] = ex_4['Wage'].apply(converte_wage)\n",
    "ex_4['Weight_Numeric'] = ex_4['Weight'].apply(converte_weight)\n",
    "\n",
    "ex_4[['Release_Clause_Numeric','Wage_Numeric','Weight_Numeric']].head(5)"
   ]
  },
  {
   "cell_type": "code",
   "execution_count": 109,
   "metadata": {},
   "outputs": [
    {
     "data": {
      "text/html": [
       "<div>\n",
       "<style scoped>\n",
       "    .dataframe tbody tr th:only-of-type {\n",
       "        vertical-align: middle;\n",
       "    }\n",
       "\n",
       "    .dataframe tbody tr th {\n",
       "        vertical-align: top;\n",
       "    }\n",
       "\n",
       "    .dataframe thead th {\n",
       "        text-align: right;\n",
       "    }\n",
       "</style>\n",
       "<table border=\"1\" class=\"dataframe\">\n",
       "  <thead>\n",
       "    <tr style=\"text-align: right;\">\n",
       "      <th></th>\n",
       "      <th>Name</th>\n",
       "      <th>Overall</th>\n",
       "      <th>Release_Clause_Numeric</th>\n",
       "      <th>Weight_Numeric</th>\n",
       "      <th>Wage_Numeric</th>\n",
       "      <th>Age</th>\n",
       "    </tr>\n",
       "  </thead>\n",
       "  <tbody>\n",
       "    <tr>\n",
       "      <th>578</th>\n",
       "      <td>M. Campaña</td>\n",
       "      <td>79</td>\n",
       "      <td>14800000.0</td>\n",
       "      <td>165.0</td>\n",
       "      <td>21000.0</td>\n",
       "      <td>29</td>\n",
       "    </tr>\n",
       "    <tr>\n",
       "      <th>605</th>\n",
       "      <td>J. Hector</td>\n",
       "      <td>79</td>\n",
       "      <td>15000000.0</td>\n",
       "      <td>165.0</td>\n",
       "      <td>26000.0</td>\n",
       "      <td>28</td>\n",
       "    </tr>\n",
       "    <tr>\n",
       "      <th>785</th>\n",
       "      <td>C. Izquierdoz</td>\n",
       "      <td>78</td>\n",
       "      <td>11200000.0</td>\n",
       "      <td>196.0</td>\n",
       "      <td>25000.0</td>\n",
       "      <td>29</td>\n",
       "    </tr>\n",
       "    <tr>\n",
       "      <th>817</th>\n",
       "      <td>V. Chiricheş</td>\n",
       "      <td>78</td>\n",
       "      <td>14500000.0</td>\n",
       "      <td>165.0</td>\n",
       "      <td>57000.0</td>\n",
       "      <td>28</td>\n",
       "    </tr>\n",
       "    <tr>\n",
       "      <th>852</th>\n",
       "      <td>N. Lodeiro</td>\n",
       "      <td>78</td>\n",
       "      <td>15000000.0</td>\n",
       "      <td>152.0</td>\n",
       "      <td>11000.0</td>\n",
       "      <td>29</td>\n",
       "    </tr>\n",
       "    <tr>\n",
       "      <th>893</th>\n",
       "      <td>R. Alessandrini</td>\n",
       "      <td>78</td>\n",
       "      <td>15000000.0</td>\n",
       "      <td>154.0</td>\n",
       "      <td>11000.0</td>\n",
       "      <td>29</td>\n",
       "    </tr>\n",
       "    <tr>\n",
       "      <th>1148</th>\n",
       "      <td>B. Oczipka</td>\n",
       "      <td>77</td>\n",
       "      <td>11100000.0</td>\n",
       "      <td>187.0</td>\n",
       "      <td>30000.0</td>\n",
       "      <td>29</td>\n",
       "    </tr>\n",
       "    <tr>\n",
       "      <th>1057</th>\n",
       "      <td>Rafael Carioca</td>\n",
       "      <td>77</td>\n",
       "      <td>13600000.0</td>\n",
       "      <td>159.0</td>\n",
       "      <td>54000.0</td>\n",
       "      <td>29</td>\n",
       "    </tr>\n",
       "    <tr>\n",
       "      <th>1058</th>\n",
       "      <td>A. McCarthy</td>\n",
       "      <td>77</td>\n",
       "      <td>13800000.0</td>\n",
       "      <td>174.0</td>\n",
       "      <td>37000.0</td>\n",
       "      <td>28</td>\n",
       "    </tr>\n",
       "    <tr>\n",
       "      <th>1075</th>\n",
       "      <td>Jordi Masip</td>\n",
       "      <td>77</td>\n",
       "      <td>13200000.0</td>\n",
       "      <td>168.0</td>\n",
       "      <td>17000.0</td>\n",
       "      <td>29</td>\n",
       "    </tr>\n",
       "    <tr>\n",
       "      <th>1076</th>\n",
       "      <td>B. Espinosa</td>\n",
       "      <td>77</td>\n",
       "      <td>14700000.0</td>\n",
       "      <td>185.0</td>\n",
       "      <td>29000.0</td>\n",
       "      <td>28</td>\n",
       "    </tr>\n",
       "  </tbody>\n",
       "</table>\n",
       "</div>"
      ],
      "text/plain": [
       "                 Name  Overall  Release_Clause_Numeric  Weight_Numeric  \\\n",
       "578        M. Campaña       79              14800000.0           165.0   \n",
       "605         J. Hector       79              15000000.0           165.0   \n",
       "785     C. Izquierdoz       78              11200000.0           196.0   \n",
       "817      V. Chiricheş       78              14500000.0           165.0   \n",
       "852        N. Lodeiro       78              15000000.0           152.0   \n",
       "893   R. Alessandrini       78              15000000.0           154.0   \n",
       "1148       B. Oczipka       77              11100000.0           187.0   \n",
       "1057   Rafael Carioca       77              13600000.0           159.0   \n",
       "1058      A. McCarthy       77              13800000.0           174.0   \n",
       "1075      Jordi Masip       77              13200000.0           168.0   \n",
       "1076      B. Espinosa       77              14700000.0           185.0   \n",
       "\n",
       "      Wage_Numeric  Age  \n",
       "578        21000.0   29  \n",
       "605        26000.0   28  \n",
       "785        25000.0   29  \n",
       "817        57000.0   28  \n",
       "852        11000.0   29  \n",
       "893        11000.0   29  \n",
       "1148       30000.0   29  \n",
       "1057       54000.0   29  \n",
       "1058       37000.0   28  \n",
       "1075       17000.0   29  \n",
       "1076       29000.0   28  "
      ]
     },
     "execution_count": 109,
     "metadata": {},
     "output_type": "execute_result"
    }
   ],
   "source": [
    "# filtra jogadores que valem menos que 15 milhoes e tem no maximo 29 anos\n",
    "ex_4 = ex_4[(ex_4['Release_Clause_Numeric']<=15000000) & (ex_4['Age'] <= 29)]\n",
    "\n",
    "# seleciona os melhores jogadores pelo overall\n",
    "ex_4 = ex_4.sort_values(by='Overall', ascending=False)[['Name','Overall','Release_Clause_Numeric',\n",
    "                                                       'Weight_Numeric', 'Wage_Numeric', 'Age']].head(11)\n",
    "\n",
    "ex_4"
   ]
  },
  {
   "cell_type": "code",
   "execution_count": 110,
   "metadata": {},
   "outputs": [
    {
     "data": {
      "text/html": [
       "<div>\n",
       "<style scoped>\n",
       "    .dataframe tbody tr th:only-of-type {\n",
       "        vertical-align: middle;\n",
       "    }\n",
       "\n",
       "    .dataframe tbody tr th {\n",
       "        vertical-align: top;\n",
       "    }\n",
       "\n",
       "    .dataframe thead th {\n",
       "        text-align: right;\n",
       "    }\n",
       "</style>\n",
       "<table border=\"1\" class=\"dataframe\">\n",
       "  <thead>\n",
       "    <tr style=\"text-align: right;\">\n",
       "      <th></th>\n",
       "      <th>Name</th>\n",
       "      <th>Overall</th>\n",
       "      <th>Release_Clause_Numeric</th>\n",
       "      <th>Weight_Numeric</th>\n",
       "      <th>Wage_Numeric</th>\n",
       "      <th>Age</th>\n",
       "      <th>High Price</th>\n",
       "    </tr>\n",
       "  </thead>\n",
       "  <tbody>\n",
       "    <tr>\n",
       "      <th>578</th>\n",
       "      <td>M. Campaña</td>\n",
       "      <td>79</td>\n",
       "      <td>14800000.0</td>\n",
       "      <td>165.0</td>\n",
       "      <td>21000.0</td>\n",
       "      <td>29</td>\n",
       "      <td>1</td>\n",
       "    </tr>\n",
       "    <tr>\n",
       "      <th>605</th>\n",
       "      <td>J. Hector</td>\n",
       "      <td>79</td>\n",
       "      <td>15000000.0</td>\n",
       "      <td>165.0</td>\n",
       "      <td>26000.0</td>\n",
       "      <td>28</td>\n",
       "      <td>1</td>\n",
       "    </tr>\n",
       "    <tr>\n",
       "      <th>785</th>\n",
       "      <td>C. Izquierdoz</td>\n",
       "      <td>78</td>\n",
       "      <td>11200000.0</td>\n",
       "      <td>196.0</td>\n",
       "      <td>25000.0</td>\n",
       "      <td>29</td>\n",
       "      <td>0</td>\n",
       "    </tr>\n",
       "    <tr>\n",
       "      <th>817</th>\n",
       "      <td>V. Chiricheş</td>\n",
       "      <td>78</td>\n",
       "      <td>14500000.0</td>\n",
       "      <td>165.0</td>\n",
       "      <td>57000.0</td>\n",
       "      <td>28</td>\n",
       "      <td>0</td>\n",
       "    </tr>\n",
       "    <tr>\n",
       "      <th>852</th>\n",
       "      <td>N. Lodeiro</td>\n",
       "      <td>78</td>\n",
       "      <td>15000000.0</td>\n",
       "      <td>152.0</td>\n",
       "      <td>11000.0</td>\n",
       "      <td>29</td>\n",
       "      <td>1</td>\n",
       "    </tr>\n",
       "    <tr>\n",
       "      <th>893</th>\n",
       "      <td>R. Alessandrini</td>\n",
       "      <td>78</td>\n",
       "      <td>15000000.0</td>\n",
       "      <td>154.0</td>\n",
       "      <td>11000.0</td>\n",
       "      <td>29</td>\n",
       "      <td>1</td>\n",
       "    </tr>\n",
       "    <tr>\n",
       "      <th>1148</th>\n",
       "      <td>B. Oczipka</td>\n",
       "      <td>77</td>\n",
       "      <td>11100000.0</td>\n",
       "      <td>187.0</td>\n",
       "      <td>30000.0</td>\n",
       "      <td>29</td>\n",
       "      <td>0</td>\n",
       "    </tr>\n",
       "    <tr>\n",
       "      <th>1057</th>\n",
       "      <td>Rafael Carioca</td>\n",
       "      <td>77</td>\n",
       "      <td>13600000.0</td>\n",
       "      <td>159.0</td>\n",
       "      <td>54000.0</td>\n",
       "      <td>29</td>\n",
       "      <td>0</td>\n",
       "    </tr>\n",
       "    <tr>\n",
       "      <th>1058</th>\n",
       "      <td>A. McCarthy</td>\n",
       "      <td>77</td>\n",
       "      <td>13800000.0</td>\n",
       "      <td>174.0</td>\n",
       "      <td>37000.0</td>\n",
       "      <td>28</td>\n",
       "      <td>0</td>\n",
       "    </tr>\n",
       "    <tr>\n",
       "      <th>1075</th>\n",
       "      <td>Jordi Masip</td>\n",
       "      <td>77</td>\n",
       "      <td>13200000.0</td>\n",
       "      <td>168.0</td>\n",
       "      <td>17000.0</td>\n",
       "      <td>29</td>\n",
       "      <td>0</td>\n",
       "    </tr>\n",
       "    <tr>\n",
       "      <th>1076</th>\n",
       "      <td>B. Espinosa</td>\n",
       "      <td>77</td>\n",
       "      <td>14700000.0</td>\n",
       "      <td>185.0</td>\n",
       "      <td>29000.0</td>\n",
       "      <td>28</td>\n",
       "      <td>1</td>\n",
       "    </tr>\n",
       "  </tbody>\n",
       "</table>\n",
       "</div>"
      ],
      "text/plain": [
       "                 Name  Overall  Release_Clause_Numeric  Weight_Numeric  \\\n",
       "578        M. Campaña       79              14800000.0           165.0   \n",
       "605         J. Hector       79              15000000.0           165.0   \n",
       "785     C. Izquierdoz       78              11200000.0           196.0   \n",
       "817      V. Chiricheş       78              14500000.0           165.0   \n",
       "852        N. Lodeiro       78              15000000.0           152.0   \n",
       "893   R. Alessandrini       78              15000000.0           154.0   \n",
       "1148       B. Oczipka       77              11100000.0           187.0   \n",
       "1057   Rafael Carioca       77              13600000.0           159.0   \n",
       "1058      A. McCarthy       77              13800000.0           174.0   \n",
       "1075      Jordi Masip       77              13200000.0           168.0   \n",
       "1076      B. Espinosa       77              14700000.0           185.0   \n",
       "\n",
       "      Wage_Numeric  Age High Price  \n",
       "578        21000.0   29          1  \n",
       "605        26000.0   28          1  \n",
       "785        25000.0   29          0  \n",
       "817        57000.0   28          0  \n",
       "852        11000.0   29          1  \n",
       "893        11000.0   29          1  \n",
       "1148       30000.0   29          0  \n",
       "1057       54000.0   29          0  \n",
       "1058       37000.0   28          0  \n",
       "1075       17000.0   29          0  \n",
       "1076       29000.0   28          1  "
      ]
     },
     "execution_count": 110,
     "metadata": {},
     "output_type": "execute_result"
    }
   ],
   "source": [
    "import numpy as np\n",
    "ex_4['High Price'] = np.where(ex_4['Release_Clause_Numeric']>ex_4['Release_Clause_Numeric'].median(), '1', '0')\n",
    "ex_4"
   ]
  },
  {
   "cell_type": "code",
   "execution_count": 111,
   "metadata": {},
   "outputs": [
    {
     "data": {
      "image/png": "[encoded data removed]",
      "text/plain": [
       "<Figure size 1296x216 with 3 Axes>"
      ]
     },
     "metadata": {
      "needs_background": "light"
     },
     "output_type": "display_data"
    }
   ],
   "source": [
    "import matplotlib.pyplot as plt\n",
    "\n",
    "fig, ax = plt.subplots(nrows=1, ncols=3,figsize=(18,3))\n",
    "\n",
    "\n",
    "ax[0].hist(ex_4['Weight_Numeric'], bins=3);\n",
    "ax[0].set_title('Histograma Peso');\n",
    "\n",
    "ax[1].hist(ex_4['Age'], bins=3);\n",
    "ax[1].set_title('Histograma Idade');\n",
    "\n",
    "ax[2].hist(ex_4['Wage_Numeric'], bins=3);\n",
    "ax[2].set_title('Histograma Salario');"
   ]
  },
  {
   "cell_type": "markdown",
   "metadata": {},
   "source": [
    "## Exercício 7"
   ]
  },
  {
   "cell_type": "code",
   "execution_count": 112,
   "metadata": {},
   "outputs": [
    {
     "data": {
      "image/png": "[encoded data removed]",
      "text/plain": [
       "<Figure size 463.25x360 with 1 Axes>"
      ]
     },
     "metadata": {
      "needs_background": "light"
     },
     "output_type": "display_data"
    }
   ],
   "source": [
    "import seaborn as sns\n",
    "\n",
    "iris = pd.read_csv('iris.csv');\n",
    "sns.lmplot( x=\"SepalLengthCm\", y=\"PetalLengthCm\", data=iris, hue='Species',fit_reg=False);"
   ]
  },
  {
   "cell_type": "markdown",
   "metadata": {},
   "source": [
    "## Exercício 8"
   ]
  },
  {
   "cell_type": "code",
   "execution_count": 113,
   "metadata": {},
   "outputs": [
    {
     "data": {
      "text/html": [
       "<div>\n",
       "<style scoped>\n",
       "    .dataframe tbody tr th:only-of-type {\n",
       "        vertical-align: middle;\n",
       "    }\n",
       "\n",
       "    .dataframe tbody tr th {\n",
       "        vertical-align: top;\n",
       "    }\n",
       "\n",
       "    .dataframe thead th {\n",
       "        text-align: right;\n",
       "    }\n",
       "</style>\n",
       "<table border=\"1\" class=\"dataframe\">\n",
       "  <thead>\n",
       "    <tr style=\"text-align: right;\">\n",
       "      <th></th>\n",
       "      <th>Id</th>\n",
       "      <th>SepalLengthCm</th>\n",
       "      <th>SepalWidthCm</th>\n",
       "      <th>PetalLengthCm</th>\n",
       "      <th>PetalWidthCm</th>\n",
       "      <th>Species</th>\n",
       "    </tr>\n",
       "  </thead>\n",
       "  <tbody>\n",
       "    <tr>\n",
       "      <th>0</th>\n",
       "      <td>1</td>\n",
       "      <td>5.1</td>\n",
       "      <td>3.5</td>\n",
       "      <td>1.4</td>\n",
       "      <td>0.2</td>\n",
       "      <td>setosa</td>\n",
       "    </tr>\n",
       "    <tr>\n",
       "      <th>1</th>\n",
       "      <td>2</td>\n",
       "      <td>4.9</td>\n",
       "      <td>3.0</td>\n",
       "      <td>1.4</td>\n",
       "      <td>0.2</td>\n",
       "      <td>setosa</td>\n",
       "    </tr>\n",
       "    <tr>\n",
       "      <th>2</th>\n",
       "      <td>3</td>\n",
       "      <td>4.7</td>\n",
       "      <td>3.2</td>\n",
       "      <td>1.3</td>\n",
       "      <td>0.2</td>\n",
       "      <td>setosa</td>\n",
       "    </tr>\n",
       "    <tr>\n",
       "      <th>3</th>\n",
       "      <td>4</td>\n",
       "      <td>4.6</td>\n",
       "      <td>3.1</td>\n",
       "      <td>1.5</td>\n",
       "      <td>0.2</td>\n",
       "      <td>setosa</td>\n",
       "    </tr>\n",
       "    <tr>\n",
       "      <th>4</th>\n",
       "      <td>5</td>\n",
       "      <td>5.0</td>\n",
       "      <td>3.6</td>\n",
       "      <td>1.4</td>\n",
       "      <td>0.2</td>\n",
       "      <td>setosa</td>\n",
       "    </tr>\n",
       "  </tbody>\n",
       "</table>\n",
       "</div>"
      ],
      "text/plain": [
       "   Id  SepalLengthCm  SepalWidthCm  PetalLengthCm  PetalWidthCm Species\n",
       "0   1            5.1           3.5            1.4           0.2  setosa\n",
       "1   2            4.9           3.0            1.4           0.2  setosa\n",
       "2   3            4.7           3.2            1.3           0.2  setosa\n",
       "3   4            4.6           3.1            1.5           0.2  setosa\n",
       "4   5            5.0           3.6            1.4           0.2  setosa"
      ]
     },
     "execution_count": 113,
     "metadata": {},
     "output_type": "execute_result"
    }
   ],
   "source": [
    "iris['Species'] = iris['Species'].str.replace('Iris-', '')\n",
    "iris.head()"
   ]
  },
  {
   "cell_type": "code",
   "execution_count": 26,
   "metadata": {},
   "outputs": [
    {
     "data": {
      "text/html": [
       "<div>\n",
       "<style scoped>\n",
       "    .dataframe tbody tr th:only-of-type {\n",
       "        vertical-align: middle;\n",
       "    }\n",
       "\n",
       "    .dataframe tbody tr th {\n",
       "        vertical-align: top;\n",
       "    }\n",
       "\n",
       "    .dataframe thead th {\n",
       "        text-align: right;\n",
       "    }\n",
       "</style>\n",
       "<table border=\"1\" class=\"dataframe\">\n",
       "  <thead>\n",
       "    <tr style=\"text-align: right;\">\n",
       "      <th></th>\n",
       "      <th>Id</th>\n",
       "      <th>SepalLengthCm</th>\n",
       "      <th>SepalWidthCm</th>\n",
       "      <th>PetalLengthCm</th>\n",
       "      <th>PetalWidthCm</th>\n",
       "      <th>Species</th>\n",
       "      <th>setosa</th>\n",
       "      <th>versicolor</th>\n",
       "      <th>virginica</th>\n",
       "    </tr>\n",
       "  </thead>\n",
       "  <tbody>\n",
       "    <tr>\n",
       "      <th>0</th>\n",
       "      <td>1</td>\n",
       "      <td>5.1</td>\n",
       "      <td>3.5</td>\n",
       "      <td>1.4</td>\n",
       "      <td>0.2</td>\n",
       "      <td>setosa</td>\n",
       "      <td>1</td>\n",
       "      <td>0</td>\n",
       "      <td>0</td>\n",
       "    </tr>\n",
       "    <tr>\n",
       "      <th>1</th>\n",
       "      <td>2</td>\n",
       "      <td>4.9</td>\n",
       "      <td>3.0</td>\n",
       "      <td>1.4</td>\n",
       "      <td>0.2</td>\n",
       "      <td>setosa</td>\n",
       "      <td>1</td>\n",
       "      <td>0</td>\n",
       "      <td>0</td>\n",
       "    </tr>\n",
       "    <tr>\n",
       "      <th>2</th>\n",
       "      <td>3</td>\n",
       "      <td>4.7</td>\n",
       "      <td>3.2</td>\n",
       "      <td>1.3</td>\n",
       "      <td>0.2</td>\n",
       "      <td>setosa</td>\n",
       "      <td>1</td>\n",
       "      <td>0</td>\n",
       "      <td>0</td>\n",
       "    </tr>\n",
       "    <tr>\n",
       "      <th>3</th>\n",
       "      <td>4</td>\n",
       "      <td>4.6</td>\n",
       "      <td>3.1</td>\n",
       "      <td>1.5</td>\n",
       "      <td>0.2</td>\n",
       "      <td>setosa</td>\n",
       "      <td>1</td>\n",
       "      <td>0</td>\n",
       "      <td>0</td>\n",
       "    </tr>\n",
       "    <tr>\n",
       "      <th>4</th>\n",
       "      <td>5</td>\n",
       "      <td>5.0</td>\n",
       "      <td>3.6</td>\n",
       "      <td>1.4</td>\n",
       "      <td>0.2</td>\n",
       "      <td>setosa</td>\n",
       "      <td>1</td>\n",
       "      <td>0</td>\n",
       "      <td>0</td>\n",
       "    </tr>\n",
       "  </tbody>\n",
       "</table>\n",
       "</div>"
      ],
      "text/plain": [
       "   Id  SepalLengthCm  SepalWidthCm  PetalLengthCm  PetalWidthCm Species  \\\n",
       "0   1            5.1           3.5            1.4           0.2  setosa   \n",
       "1   2            4.9           3.0            1.4           0.2  setosa   \n",
       "2   3            4.7           3.2            1.3           0.2  setosa   \n",
       "3   4            4.6           3.1            1.5           0.2  setosa   \n",
       "4   5            5.0           3.6            1.4           0.2  setosa   \n",
       "\n",
       "   setosa  versicolor  virginica  \n",
       "0       1           0          0  \n",
       "1       1           0          0  \n",
       "2       1           0          0  \n",
       "3       1           0          0  \n",
       "4       1           0          0  "
      ]
     },
     "execution_count": 26,
     "metadata": {},
     "output_type": "execute_result"
    }
   ],
   "source": [
    "pd.concat([iris, pd.get_dummies(iris['Species'])], axis=1).head()"
   ]
  },
  {
   "cell_type": "markdown",
   "metadata": {},
   "source": [
    "## Exercício 9"
   ]
  },
  {
   "cell_type": "code",
   "execution_count": 114,
   "metadata": {},
   "outputs": [
    {
     "name": "stderr",
     "output_type": "stream",
     "text": [
      "/opt/anaconda3/lib/python3.7/site-packages/ipykernel_launcher.py:2: FutureWarning: The pandas.datetime class is deprecated and will be removed from pandas in a future version. Import from datetime module instead.\n",
      "  \n"
     ]
    }
   ],
   "source": [
    "# cria funcao para converter campo texto yyyy-mm-dd pra data\n",
    "dateparse = lambda dates: pd.datetime.strptime(dates, '%Y-%m-%d')\n",
    "\n",
    "# carrega arquivos ja transformando a coluna em indice\n",
    "mglu3 = pd.read_csv('MGLU3.SA.csv',date_parser=dateparse, usecols=['Date','Close', 'Open'], index_col='Date')\n",
    "lren3 = pd.read_csv('LREN3.SA.csv',date_parser=dateparse, usecols=['Date','Close', 'Open'], index_col='Date')"
   ]
  },
  {
   "cell_type": "code",
   "execution_count": 115,
   "metadata": {},
   "outputs": [],
   "source": [
    "mglu3=mglu3.loc['2016-01-01 00:00:00':'2018-12-31 23:59:59']\n",
    "lren3=lren3.loc['2016-01-01 00:00:00':'2018-12-31 23:59:59']"
   ]
  },
  {
   "cell_type": "code",
   "execution_count": 141,
   "metadata": {},
   "outputs": [
    {
     "data": {
      "image/png": "[encoded data removed]",
      "text/plain": [
       "<Figure size 1080x432 with 1 Axes>"
      ]
     },
     "metadata": {
      "needs_background": "light"
     },
     "output_type": "display_data"
    }
   ],
   "source": [
    "plt.figure(figsize=(15,6));\n",
    "plt.plot(mglu3['Open'], label='Open MGLU3', ls='dashed', color='blue', linewidth=3);\n",
    "plt.plot(lren3['Open'], label='Open LREN3', ls='dashed', color='purple', linewidth=3);\n",
    "plt.plot(mglu3['Close'], label='Close MGLU3', color='green', linewidth=1);\n",
    "plt.plot(lren3['Close'], label='Close LREN3', color='red', linewidth=1);\n",
    "plt.legend(loc='lower right');\n",
    "plt.xticks(rotation=45);"
   ]
  },
  {
   "cell_type": "markdown",
   "metadata": {},
   "source": [
    "## Exercícios 10, 11, 12"
   ]
  },
  {
   "cell_type": "code",
   "execution_count": 36,
   "metadata": {},
   "outputs": [
    {
     "data": {
      "text/html": [
       "<div>\n",
       "<style scoped>\n",
       "    .dataframe tbody tr th:only-of-type {\n",
       "        vertical-align: middle;\n",
       "    }\n",
       "\n",
       "    .dataframe tbody tr th {\n",
       "        vertical-align: top;\n",
       "    }\n",
       "\n",
       "    .dataframe thead th {\n",
       "        text-align: right;\n",
       "    }\n",
       "</style>\n",
       "<table border=\"1\" class=\"dataframe\">\n",
       "  <thead>\n",
       "    <tr style=\"text-align: right;\">\n",
       "      <th></th>\n",
       "      <th>Id</th>\n",
       "      <th>Valor_Compra</th>\n",
       "      <th>Data_Compra</th>\n",
       "    </tr>\n",
       "  </thead>\n",
       "  <tbody>\n",
       "    <tr>\n",
       "      <th>0</th>\n",
       "      <td>TR577</td>\n",
       "      <td>146.86</td>\n",
       "      <td>01/02/2020</td>\n",
       "    </tr>\n",
       "    <tr>\n",
       "      <th>1</th>\n",
       "      <td>AB586</td>\n",
       "      <td>487.00</td>\n",
       "      <td>01/02/2020</td>\n",
       "    </tr>\n",
       "    <tr>\n",
       "      <th>2</th>\n",
       "      <td>CD687</td>\n",
       "      <td>147.31</td>\n",
       "      <td>09/02/2020</td>\n",
       "    </tr>\n",
       "    <tr>\n",
       "      <th>3</th>\n",
       "      <td>TR577</td>\n",
       "      <td>401.10</td>\n",
       "      <td>09/02/2020</td>\n",
       "    </tr>\n",
       "    <tr>\n",
       "      <th>4</th>\n",
       "      <td>AA256</td>\n",
       "      <td>386.92</td>\n",
       "      <td>03/03/2020</td>\n",
       "    </tr>\n",
       "  </tbody>\n",
       "</table>\n",
       "</div>"
      ],
      "text/plain": [
       "      Id  Valor_Compra Data_Compra\n",
       "0  TR577        146.86  01/02/2020\n",
       "1  AB586        487.00  01/02/2020\n",
       "2  CD687        147.31  09/02/2020\n",
       "3  TR577        401.10  09/02/2020\n",
       "4  AA256        386.92  03/03/2020"
      ]
     },
     "execution_count": 36,
     "metadata": {},
     "output_type": "execute_result"
    }
   ],
   "source": [
    "import pandasql as ps\n",
    "\n",
    "compras = pd.read_csv('COMPRAS.csv', sep=';', decimal=',');\n",
    "compras.head(5)"
   ]
  },
  {
   "cell_type": "code",
   "execution_count": 37,
   "metadata": {},
   "outputs": [
    {
     "data": {
      "text/html": [
       "<div>\n",
       "<style scoped>\n",
       "    .dataframe tbody tr th:only-of-type {\n",
       "        vertical-align: middle;\n",
       "    }\n",
       "\n",
       "    .dataframe tbody tr th {\n",
       "        vertical-align: top;\n",
       "    }\n",
       "\n",
       "    .dataframe thead th {\n",
       "        text-align: right;\n",
       "    }\n",
       "</style>\n",
       "<table border=\"1\" class=\"dataframe\">\n",
       "  <thead>\n",
       "    <tr style=\"text-align: right;\">\n",
       "      <th></th>\n",
       "      <th>Id</th>\n",
       "      <th>Nome</th>\n",
       "      <th>Idade</th>\n",
       "      <th>Estado</th>\n",
       "    </tr>\n",
       "  </thead>\n",
       "  <tbody>\n",
       "    <tr>\n",
       "      <th>0</th>\n",
       "      <td>AA256</td>\n",
       "      <td>Andre</td>\n",
       "      <td>32</td>\n",
       "      <td>AM</td>\n",
       "    </tr>\n",
       "    <tr>\n",
       "      <th>1</th>\n",
       "      <td>AB586</td>\n",
       "      <td>Marcos</td>\n",
       "      <td>25</td>\n",
       "      <td>MG</td>\n",
       "    </tr>\n",
       "    <tr>\n",
       "      <th>2</th>\n",
       "      <td>CD687</td>\n",
       "      <td>Bruna</td>\n",
       "      <td>20</td>\n",
       "      <td>GO</td>\n",
       "    </tr>\n",
       "    <tr>\n",
       "      <th>3</th>\n",
       "      <td>TR577</td>\n",
       "      <td>Diogo</td>\n",
       "      <td>34</td>\n",
       "      <td>GO</td>\n",
       "    </tr>\n",
       "    <tr>\n",
       "      <th>4</th>\n",
       "      <td>FS593</td>\n",
       "      <td>Leticia</td>\n",
       "      <td>63</td>\n",
       "      <td>BA</td>\n",
       "    </tr>\n",
       "  </tbody>\n",
       "</table>\n",
       "</div>"
      ],
      "text/plain": [
       "      Id     Nome  Idade Estado\n",
       "0  AA256    Andre     32     AM\n",
       "1  AB586   Marcos     25     MG\n",
       "2  CD687    Bruna     20     GO\n",
       "3  TR577    Diogo     34     GO\n",
       "4  FS593  Leticia     63     BA"
      ]
     },
     "execution_count": 37,
     "metadata": {},
     "output_type": "execute_result"
    }
   ],
   "source": [
    "cadastro = pd.read_csv('CADASTRO.csv', sep=';', decimal=',');\n",
    "cadastro.head(5)"
   ]
  },
  {
   "cell_type": "code",
   "execution_count": 38,
   "metadata": {},
   "outputs": [
    {
     "data": {
      "text/html": [
       "<div>\n",
       "<style scoped>\n",
       "    .dataframe tbody tr th:only-of-type {\n",
       "        vertical-align: middle;\n",
       "    }\n",
       "\n",
       "    .dataframe tbody tr th {\n",
       "        vertical-align: top;\n",
       "    }\n",
       "\n",
       "    .dataframe thead th {\n",
       "        text-align: right;\n",
       "    }\n",
       "</style>\n",
       "<table border=\"1\" class=\"dataframe\">\n",
       "  <thead>\n",
       "    <tr style=\"text-align: right;\">\n",
       "      <th></th>\n",
       "      <th>Id</th>\n",
       "      <th>Idade</th>\n",
       "      <th>Estado</th>\n",
       "      <th>Gasto_Total</th>\n",
       "    </tr>\n",
       "  </thead>\n",
       "  <tbody>\n",
       "    <tr>\n",
       "      <th>0</th>\n",
       "      <td>AA256</td>\n",
       "      <td>32</td>\n",
       "      <td>AM</td>\n",
       "      <td>1858.83</td>\n",
       "    </tr>\n",
       "    <tr>\n",
       "      <th>1</th>\n",
       "      <td>AB586</td>\n",
       "      <td>25</td>\n",
       "      <td>MG</td>\n",
       "      <td>487.00</td>\n",
       "    </tr>\n",
       "    <tr>\n",
       "      <th>2</th>\n",
       "      <td>CD687</td>\n",
       "      <td>20</td>\n",
       "      <td>GO</td>\n",
       "      <td>147.31</td>\n",
       "    </tr>\n",
       "    <tr>\n",
       "      <th>3</th>\n",
       "      <td>DE568</td>\n",
       "      <td>44</td>\n",
       "      <td>AC</td>\n",
       "      <td>923.97</td>\n",
       "    </tr>\n",
       "    <tr>\n",
       "      <th>4</th>\n",
       "      <td>DV468</td>\n",
       "      <td>26</td>\n",
       "      <td>AM</td>\n",
       "      <td>881.88</td>\n",
       "    </tr>\n",
       "    <tr>\n",
       "      <th>5</th>\n",
       "      <td>ER999</td>\n",
       "      <td>24</td>\n",
       "      <td>CE</td>\n",
       "      <td>464.50</td>\n",
       "    </tr>\n",
       "    <tr>\n",
       "      <th>6</th>\n",
       "      <td>FS593</td>\n",
       "      <td>63</td>\n",
       "      <td>BA</td>\n",
       "      <td>930.43</td>\n",
       "    </tr>\n",
       "    <tr>\n",
       "      <th>7</th>\n",
       "      <td>JT587</td>\n",
       "      <td>22</td>\n",
       "      <td>AL</td>\n",
       "      <td>210.27</td>\n",
       "    </tr>\n",
       "    <tr>\n",
       "      <th>8</th>\n",
       "      <td>PY684</td>\n",
       "      <td>29</td>\n",
       "      <td>CE</td>\n",
       "      <td>698.64</td>\n",
       "    </tr>\n",
       "    <tr>\n",
       "      <th>9</th>\n",
       "      <td>TKH854</td>\n",
       "      <td>19</td>\n",
       "      <td>AC</td>\n",
       "      <td>271.01</td>\n",
       "    </tr>\n",
       "    <tr>\n",
       "      <th>10</th>\n",
       "      <td>TR577</td>\n",
       "      <td>34</td>\n",
       "      <td>GO</td>\n",
       "      <td>867.10</td>\n",
       "    </tr>\n",
       "    <tr>\n",
       "      <th>11</th>\n",
       "      <td>TT684</td>\n",
       "      <td>35</td>\n",
       "      <td>CE</td>\n",
       "      <td>468.33</td>\n",
       "    </tr>\n",
       "  </tbody>\n",
       "</table>\n",
       "</div>"
      ],
      "text/plain": [
       "        Id  Idade Estado  Gasto_Total\n",
       "0    AA256     32     AM      1858.83\n",
       "1    AB586     25     MG       487.00\n",
       "2    CD687     20     GO       147.31\n",
       "3    DE568     44     AC       923.97\n",
       "4    DV468     26     AM       881.88\n",
       "5    ER999     24     CE       464.50\n",
       "6    FS593     63     BA       930.43\n",
       "7    JT587     22     AL       210.27\n",
       "8    PY684     29     CE       698.64\n",
       "9   TKH854     19     AC       271.01\n",
       "10   TR577     34     GO       867.10\n",
       "11   TT684     35     CE       468.33"
      ]
     },
     "execution_count": 38,
     "metadata": {},
     "output_type": "execute_result"
    }
   ],
   "source": [
    "# RESPOSTA 10\n",
    "query = \"\"\"select a.Id, a.Idade, a.Estado, sum(b.Valor_Compra) as Gasto_Total \n",
    "            from cadastro as a\n",
    "            left join compras as b\n",
    "            on a.Id = b.Id\n",
    "            group by 1,2,3\"\"\"\n",
    "\n",
    "resumo = ps.sqldf(query, locals())\n",
    "resumo"
   ]
  },
  {
   "cell_type": "code",
   "execution_count": 49,
   "metadata": {},
   "outputs": [
    {
     "data": {
      "text/html": [
       "<div>\n",
       "<style scoped>\n",
       "    .dataframe tbody tr th:only-of-type {\n",
       "        vertical-align: middle;\n",
       "    }\n",
       "\n",
       "    .dataframe tbody tr th {\n",
       "        vertical-align: top;\n",
       "    }\n",
       "\n",
       "    .dataframe thead tr th {\n",
       "        text-align: left;\n",
       "    }\n",
       "\n",
       "    .dataframe thead tr:last-of-type th {\n",
       "        text-align: right;\n",
       "    }\n",
       "</style>\n",
       "<table border=\"1\" class=\"dataframe\">\n",
       "  <thead>\n",
       "    <tr>\n",
       "      <th></th>\n",
       "      <th colspan=\"3\" halign=\"left\">Gasto_Total</th>\n",
       "    </tr>\n",
       "    <tr>\n",
       "      <th></th>\n",
       "      <th>sum</th>\n",
       "      <th>mean</th>\n",
       "      <th>std</th>\n",
       "    </tr>\n",
       "    <tr>\n",
       "      <th>Estado</th>\n",
       "      <th></th>\n",
       "      <th></th>\n",
       "      <th></th>\n",
       "    </tr>\n",
       "  </thead>\n",
       "  <tbody>\n",
       "    <tr>\n",
       "      <th>AC</th>\n",
       "      <td>1194.98</td>\n",
       "      <td>597.490000</td>\n",
       "      <td>461.712444</td>\n",
       "    </tr>\n",
       "    <tr>\n",
       "      <th>AL</th>\n",
       "      <td>210.27</td>\n",
       "      <td>210.270000</td>\n",
       "      <td>NaN</td>\n",
       "    </tr>\n",
       "    <tr>\n",
       "      <th>AM</th>\n",
       "      <td>2740.71</td>\n",
       "      <td>1370.355000</td>\n",
       "      <td>690.807970</td>\n",
       "    </tr>\n",
       "    <tr>\n",
       "      <th>BA</th>\n",
       "      <td>930.43</td>\n",
       "      <td>930.430000</td>\n",
       "      <td>NaN</td>\n",
       "    </tr>\n",
       "    <tr>\n",
       "      <th>CE</th>\n",
       "      <td>1631.47</td>\n",
       "      <td>543.823333</td>\n",
       "      <td>134.088842</td>\n",
       "    </tr>\n",
       "    <tr>\n",
       "      <th>GO</th>\n",
       "      <td>1014.41</td>\n",
       "      <td>507.205000</td>\n",
       "      <td>508.968390</td>\n",
       "    </tr>\n",
       "    <tr>\n",
       "      <th>MG</th>\n",
       "      <td>487.00</td>\n",
       "      <td>487.000000</td>\n",
       "      <td>NaN</td>\n",
       "    </tr>\n",
       "  </tbody>\n",
       "</table>\n",
       "</div>"
      ],
      "text/plain": [
       "       Gasto_Total                         \n",
       "               sum         mean         std\n",
       "Estado                                     \n",
       "AC         1194.98   597.490000  461.712444\n",
       "AL          210.27   210.270000         NaN\n",
       "AM         2740.71  1370.355000  690.807970\n",
       "BA          930.43   930.430000         NaN\n",
       "CE         1631.47   543.823333  134.088842\n",
       "GO         1014.41   507.205000  508.968390\n",
       "MG          487.00   487.000000         NaN"
      ]
     },
     "execution_count": 49,
     "metadata": {},
     "output_type": "execute_result"
    }
   ],
   "source": [
    "resumo.groupby('Estado').agg({'Gasto_Total':['sum','mean','std']})"
   ]
  },
  {
   "cell_type": "code",
   "execution_count": 51,
   "metadata": {},
   "outputs": [
    {
     "name": "stdout",
     "output_type": "stream",
     "text": [
      "Estado\n",
      "AC    326.480000\n",
      "AL      0.000000\n",
      "AM    488.475000\n",
      "BA      0.000000\n",
      "CE    109.483081\n",
      "GO    359.895000\n",
      "MG      0.000000\n",
      "Name: Gasto_Total, dtype: float64\n"
     ]
    }
   ],
   "source": [
    "print(resumo.groupby('Estado')['Gasto_Total'].std(ddof=0))"
   ]
  },
  {
   "cell_type": "code",
   "execution_count": 39,
   "metadata": {},
   "outputs": [
    {
     "data": {
      "text/plain": [
       "<matplotlib.axes._subplots.AxesSubplot at 0x1a1c6e53d0>"
      ]
     },
     "execution_count": 39,
     "metadata": {},
     "output_type": "execute_result"
    },
    {
     "data": {
      "image/png": "[encoded data removed]",
      "text/plain": [
       "<Figure size 432x288 with 1 Axes>"
      ]
     },
     "metadata": {
      "needs_background": "light"
     },
     "output_type": "display_data"
    }
   ],
   "source": [
    "resumo_numeric =  resumo.select_dtypes(include=['int','float'])\n",
    "sns.boxplot(resumo_numeric['Idade'],orient='v')"
   ]
  },
  {
   "cell_type": "code",
   "execution_count": 40,
   "metadata": {},
   "outputs": [
    {
     "data": {
      "text/plain": [
       "<matplotlib.axes._subplots.AxesSubplot at 0x1a1c7dd090>"
      ]
     },
     "execution_count": 40,
     "metadata": {},
     "output_type": "execute_result"
    },
    {
     "data": {
      "image/png": "[encoded data removed]",
      "text/plain": [
       "<Figure size 1008x432 with 2 Axes>"
      ]
     },
     "metadata": {
      "needs_background": "light"
     },
     "output_type": "display_data"
    }
   ],
   "source": [
    "# RESPOSTA 11\n",
    "fig, (ax1, ax2) = plt.subplots(1, 2, figsize=(14,6))\n",
    "sns.boxplot(resumo_numeric['Gasto_Total'],orient='v', ax=ax1)\n",
    "sns.boxplot(resumo_numeric['Idade'],orient='v', ax=ax2)"
   ]
  },
  {
   "cell_type": "code",
   "execution_count": 41,
   "metadata": {},
   "outputs": [
    {
     "data": {
      "text/plain": [
       "<matplotlib.axes._subplots.AxesSubplot at 0x1a1c8af090>"
      ]
     },
     "execution_count": 41,
     "metadata": {},
     "output_type": "execute_result"
    },
    {
     "data": {
      "image/png": "[encoded data removed]",
      "text/plain": [
       "<Figure size 1008x432 with 2 Axes>"
      ]
     },
     "metadata": {
      "needs_background": "light"
     },
     "output_type": "display_data"
    }
   ],
   "source": [
    "# RESPOSTA 11\n",
    "fig, (ax1, ax2) = plt.subplots(1, 2, figsize=(14,6))\n",
    "sns.distplot(resumo_numeric['Gasto_Total'], ax=ax1, kde=False)\n",
    "sns.distplot(resumo_numeric['Idade'], ax=ax2, kde = False)"
   ]
  },
  {
   "cell_type": "code",
   "execution_count": 98,
   "metadata": {},
   "outputs": [],
   "source": [
    "# Resposta 12\n",
    "resumo['jovem'] = np.where(resumo['Idade']<30, 'jovem', 'velho')"
   ]
  },
  {
   "cell_type": "code",
   "execution_count": 99,
   "metadata": {},
   "outputs": [
    {
     "data": {
      "image/png": "[encoded data removed]",
      "text/plain": [
       "<Figure size 432x288 with 1 Axes>"
      ]
     },
     "metadata": {
      "needs_background": "light"
     },
     "output_type": "display_data"
    }
   ],
   "source": [
    "resumo.groupby('jovem')['Gasto_Total'].mean().plot.bar();"
   ]
  },
  {
   "cell_type": "markdown",
   "metadata": {},
   "source": [
    "## Exercício 13"
   ]
  },
  {
   "cell_type": "code",
   "execution_count": 54,
   "metadata": {},
   "outputs": [
    {
     "name": "stdout",
     "output_type": "stream",
     "text": [
      "Digitos pares que nao fazem parte do numero passado: [8]\n",
      "O número é ímpar\n",
      "Digitos pares que nao fazem parte do numero passado: []\n",
      "O número é par\n"
     ]
    }
   ],
   "source": [
    "def exercicio_13(value):\n",
    "    \n",
    "    # Parte 1 do exercicio\n",
    "    list_pares = [2,4,6,8]\n",
    "    digitos = [int(d) for d in str(value)]\n",
    "    print('Digitos pares que nao fazem parte do numero passado: '+str(list(set(list_pares) - set(digitos))))\n",
    "    \n",
    "    # parte 2 do exercicio\n",
    "    if value % 2 == 0:\n",
    "        print(\"O número é par\")\n",
    "    else:\n",
    "        print(\"O número é ímpar\")\n",
    "\n",
    "        \n",
    "exercicio_13(12345679)\n",
    "exercicio_13(24680)"
   ]
  },
  {
   "cell_type": "markdown",
   "metadata": {},
   "source": [
    "## Exercício 14"
   ]
  },
  {
   "cell_type": "code",
   "execution_count": 55,
   "metadata": {},
   "outputs": [
    {
     "data": {
      "text/plain": [
       "['b', 'l', 'a']"
      ]
     },
     "execution_count": 55,
     "metadata": {},
     "output_type": "execute_result"
    }
   ],
   "source": [
    "# ALTERNATIVA 1\n",
    "def remove_duplicidade(string):\n",
    "    lista = [d for d in string]\n",
    "    lista_first = [] \n",
    "    [lista_first.append(string) for string in lista if string not in lista_first] \n",
    "    return lista_first\n",
    "    \n",
    "remove_duplicidade('blablabla')"
   ]
  },
  {
   "cell_type": "code",
   "execution_count": 56,
   "metadata": {},
   "outputs": [
    {
     "data": {
      "text/plain": [
       "'bla'"
      ]
     },
     "execution_count": 56,
     "metadata": {},
     "output_type": "execute_result"
    }
   ],
   "source": [
    "# ALTERNATIVA 2\n",
    "def remove_duplicidade(string): \n",
    "    output=\"\" \n",
    "    for i in string: \n",
    "        if(i in output): \n",
    "            pass\n",
    "        else: \n",
    "            output=output+i \n",
    "    \n",
    "    return output\n",
    "        \n",
    "\n",
    "remove_duplicidade(\"blablabla\")"
   ]
  },
  {
   "cell_type": "markdown",
   "metadata": {},
   "source": [
    "## Exercício 15"
   ]
  },
  {
   "cell_type": "code",
   "execution_count": 77,
   "metadata": {},
   "outputs": [
    {
     "name": "stdout",
     "output_type": "stream",
     "text": [
      "100\n",
      "4\n"
     ]
    }
   ],
   "source": [
    "# Usando nearest-rank: https://en.wikipedia.org/wiki/Percentile\n",
    "def return_percentile(array,percentile):\n",
    "    array.sort()\n",
    "    if (len(array)*percentile) % 2 ==0:\n",
    "        position = int(len(array)*percentile)\n",
    "        return array[position]\n",
    "    elif (len(array)*percentile)-int(len(array)*percentile)>0.5:\n",
    "        return array[int(len(array)*percentile)+1]\n",
    "    else:\n",
    "        return array[int(len(array)*percentile)-1]\n",
    "\n",
    "print(return_percentile([100,100,102,110,150,100,100,150,120],0.5))\n",
    "print(return_percentile([1,2,3,4,5,6,7,8,9,10], 0.45))"
   ]
  },
  {
   "cell_type": "code",
   "execution_count": null,
   "metadata": {},
   "outputs": [],
   "source": []
  }
 ],
 "metadata": {
  "kernelspec": {
   "display_name": "Python 3",
   "language": "python",
   "name": "python3"
  },
  "language_info": {
   "codemirror_mode": {
    "name": "ipython",
    "version": 3
   },
   "file_extension": ".py",
   "mimetype": "text/x-python",
   "name": "python",
   "nbconvert_exporter": "python",
   "pygments_lexer": "ipython3",
   "version": "3.7.6"
  }
 },
 "nbformat": 4,
 "nbformat_minor": 4
}
